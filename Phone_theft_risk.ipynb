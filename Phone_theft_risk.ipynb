{
 "cells": [
  {
   "cell_type": "markdown",
   "metadata": {},
   "source": [
    "## Phone theft prediction"
   ]
  },
  {
   "cell_type": "code",
   "execution_count": 2,
   "metadata": {},
   "outputs": [
    {
     "name": "stdout",
     "output_type": "stream",
     "text": [
      "WARNING:tensorflow:From c:\\Python311\\Lib\\site-packages\\keras\\src\\losses.py:2976: The name tf.losses.sparse_softmax_cross_entropy is deprecated. Please use tf.compat.v1.losses.sparse_softmax_cross_entropy instead.\n",
      "\n"
     ]
    }
   ],
   "source": [
    "import pandas as pd\n",
    "import numpy as np\n",
    "from sklearn.preprocessing import LabelEncoder\n",
    "import matplotlib.pyplot as plt\n",
    "from sklearn.linear_model import LogisticRegression\n",
    "from sklearn.tree import DecisionTreeClassifier\n",
    "from sklearn.metrics import accuracy_score, classification_report\n",
    "from sklearn.ensemble import RandomForestClassifier, GradientBoostingClassifier\n",
    "import seaborn as sns\n",
    "from sklearn.model_selection import train_test_split\n",
    "from sklearn.decomposition import PCA\n",
    "from sklearn.preprocessing import StandardScaler\n",
    "from sklearn.preprocessing import StandardScaler, OneHotEncoder\n",
    "from sklearn.compose import ColumnTransformer\n",
    "from tensorflow import keras\n",
    "from tensorflow.keras import layers\n",
    "from tensorflow.keras import regularizers\n",
    "import tensorflow as tf"
   ]
  },
  {
   "cell_type": "code",
   "execution_count": 5,
   "metadata": {},
   "outputs": [],
   "source": [
    "df = pd.read_csv('X_train.csv')\n"
   ]
  },
  {
   "cell_type": "code",
   "execution_count": 6,
   "metadata": {},
   "outputs": [
    {
     "name": "stdout",
     "output_type": "stream",
     "text": [
      "<class 'pandas.core.frame.DataFrame'>\n",
      "RangeIndex: 95000 entries, 0 to 94999\n",
      "Data columns (total 7 columns):\n",
      " #   Column                Non-Null Count  Dtype \n",
      "---  ------                --------------  ----- \n",
      " 0   id                    95000 non-null  int64 \n",
      " 1   City                  95000 non-null  object\n",
      " 2   TimeOfDay             95000 non-null  object\n",
      " 3   DayOfWeek             95000 non-null  object\n",
      " 4   IsWeekend             95000 non-null  int64 \n",
      " 5   Weather               95000 non-null  object\n",
      " 6   PhoneBrandPopularity  95000 non-null  object\n",
      "dtypes: int64(2), object(5)\n",
      "memory usage: 5.1+ MB\n"
     ]
    }
   ],
   "source": [
    "df.info()"
   ]
  },
  {
   "cell_type": "code",
   "execution_count": 7,
   "metadata": {},
   "outputs": [
    {
     "name": "stdout",
     "output_type": "stream",
     "text": [
      "Unique values of id: [26183 30456 53878 ... 49595 46912 91412]\n",
      "Unique values of City: ['Ben Aknoun' 'El Koba' 'Bab Ezzouar' 'Bab El Oued' 'Oued El Smar'\n",
      " 'El Harrach']\n",
      "Unique values of TimeOfDay: ['Night' 'Morning' 'Evening' 'Afternoon']\n",
      "Unique values of DayOfWeek: ['Thursday' 'Friday' 'Monday' 'Wednesday' 'Saturday' 'Tuesday' 'Sunday']\n",
      "Unique values of IsWeekend: [0 1]\n",
      "Unique values of Weather: ['Cloudy' 'Sunny' 'Rainy' 'Stormy']\n",
      "Unique values of PhoneBrandPopularity: ['Low' 'Medium' 'High']\n"
     ]
    }
   ],
   "source": [
    "for column in df.columns:\n",
    "    unique_values = df[column].unique()\n",
    "    print(f\"Unique values of {column}: {unique_values}\")\n",
    "  \n"
   ]
  },
  {
   "cell_type": "code",
   "execution_count": 8,
   "metadata": {},
   "outputs": [
    {
     "data": {
      "text/plain": [
       "id                      0\n",
       "City                    0\n",
       "TimeOfDay               0\n",
       "DayOfWeek               0\n",
       "IsWeekend               0\n",
       "Weather                 0\n",
       "PhoneBrandPopularity    0\n",
       "dtype: int64"
      ]
     },
     "execution_count": 8,
     "metadata": {},
     "output_type": "execute_result"
    }
   ],
   "source": [
    "df.isnull().sum()"
   ]
  },
  {
   "cell_type": "code",
   "execution_count": 9,
   "metadata": {},
   "outputs": [
    {
     "data": {
      "text/plain": [
       "0"
      ]
     },
     "execution_count": 9,
     "metadata": {},
     "output_type": "execute_result"
    }
   ],
   "source": [
    "df.duplicated().sum()\n"
   ]
  },
  {
   "cell_type": "code",
   "execution_count": 10,
   "metadata": {},
   "outputs": [
    {
     "data": {
      "text/html": [
       "<div>\n",
       "<style scoped>\n",
       "    .dataframe tbody tr th:only-of-type {\n",
       "        vertical-align: middle;\n",
       "    }\n",
       "\n",
       "    .dataframe tbody tr th {\n",
       "        vertical-align: top;\n",
       "    }\n",
       "\n",
       "    .dataframe thead th {\n",
       "        text-align: right;\n",
       "    }\n",
       "</style>\n",
       "<table border=\"1\" class=\"dataframe\">\n",
       "  <thead>\n",
       "    <tr style=\"text-align: right;\">\n",
       "      <th></th>\n",
       "      <th>id</th>\n",
       "      <th>City</th>\n",
       "      <th>TimeOfDay</th>\n",
       "      <th>DayOfWeek</th>\n",
       "      <th>IsWeekend</th>\n",
       "      <th>Weather</th>\n",
       "      <th>PhoneBrandPopularity</th>\n",
       "    </tr>\n",
       "  </thead>\n",
       "  <tbody>\n",
       "    <tr>\n",
       "      <th>0</th>\n",
       "      <td>26183</td>\n",
       "      <td>Ben Aknoun</td>\n",
       "      <td>Night</td>\n",
       "      <td>Thursday</td>\n",
       "      <td>0</td>\n",
       "      <td>Cloudy</td>\n",
       "      <td>Low</td>\n",
       "    </tr>\n",
       "    <tr>\n",
       "      <th>1</th>\n",
       "      <td>30456</td>\n",
       "      <td>El Koba</td>\n",
       "      <td>Night</td>\n",
       "      <td>Friday</td>\n",
       "      <td>1</td>\n",
       "      <td>Sunny</td>\n",
       "      <td>Medium</td>\n",
       "    </tr>\n",
       "    <tr>\n",
       "      <th>2</th>\n",
       "      <td>53878</td>\n",
       "      <td>Bab Ezzouar</td>\n",
       "      <td>Morning</td>\n",
       "      <td>Thursday</td>\n",
       "      <td>0</td>\n",
       "      <td>Rainy</td>\n",
       "      <td>Low</td>\n",
       "    </tr>\n",
       "    <tr>\n",
       "      <th>3</th>\n",
       "      <td>52053</td>\n",
       "      <td>Bab El Oued</td>\n",
       "      <td>Evening</td>\n",
       "      <td>Friday</td>\n",
       "      <td>1</td>\n",
       "      <td>Stormy</td>\n",
       "      <td>Medium</td>\n",
       "    </tr>\n",
       "    <tr>\n",
       "      <th>4</th>\n",
       "      <td>34510</td>\n",
       "      <td>Oued El Smar</td>\n",
       "      <td>Afternoon</td>\n",
       "      <td>Thursday</td>\n",
       "      <td>0</td>\n",
       "      <td>Cloudy</td>\n",
       "      <td>Low</td>\n",
       "    </tr>\n",
       "  </tbody>\n",
       "</table>\n",
       "</div>"
      ],
      "text/plain": [
       "      id          City  TimeOfDay DayOfWeek  IsWeekend Weather  \\\n",
       "0  26183    Ben Aknoun      Night  Thursday          0  Cloudy   \n",
       "1  30456       El Koba      Night    Friday          1   Sunny   \n",
       "2  53878   Bab Ezzouar    Morning  Thursday          0   Rainy   \n",
       "3  52053   Bab El Oued    Evening    Friday          1  Stormy   \n",
       "4  34510  Oued El Smar  Afternoon  Thursday          0  Cloudy   \n",
       "\n",
       "  PhoneBrandPopularity  \n",
       "0                  Low  \n",
       "1               Medium  \n",
       "2                  Low  \n",
       "3               Medium  \n",
       "4                  Low  "
      ]
     },
     "execution_count": 10,
     "metadata": {},
     "output_type": "execute_result"
    }
   ],
   "source": [
    "# Check if the day of the week is Saturday (6) or Friday (5)\n",
    "df['IsWeekend'] = (df['DayOfWeek'] == 'Friday') | (df['DayOfWeek'] == 'Saturday')\n",
    "\n",
    "# Convert boolean values to integers (True=1, False=0)\n",
    "df['IsWeekend'] = df['IsWeekend'].astype(int)\n",
    "\n",
    "# Print the updated DataFrame\n",
    "df.head()"
   ]
  },
  {
   "cell_type": "code",
   "execution_count": 14,
   "metadata": {},
   "outputs": [
    {
     "name": "stdout",
     "output_type": "stream",
     "text": [
      "Most common thefts happened in:\n",
      "City: El Harrach\n",
      "TimeOfDay: Morning\n",
      "DayOfWeek: Tuesday\n",
      "Weather: Sunny\n",
      "PhoneBrandPopularity: High\n"
     ]
    }
   ],
   "source": [
    "def most_common_values(df):\n",
    "    common_values = {}\n",
    "    for column in df.columns:\n",
    "        if column not in ['id', 'IsWeekend']:\n",
    "            common_values[column] = df[column].mode()[0]\n",
    "    return common_values\n",
    "\n",
    "most_common = most_common_values(df)\n",
    "print(\"Most common thefts happened in:\")\n",
    "for key, value in most_common.items():\n",
    "    print(f\"{key}: {value}\")"
   ]
  },
  {
   "cell_type": "code",
   "execution_count": 2045,
   "metadata": {},
   "outputs": [
    {
     "name": "stdout",
     "output_type": "stream",
     "text": [
      "          id  City  TimeOfDay  DayOfWeek  IsWeekend  Weather  \\\n",
      "0      26183     2          3          4          0        0   \n",
      "1      30456     4          3          0          1        3   \n",
      "2      53878     1          2          4          0        1   \n",
      "3      52053     0          1          0          1        2   \n",
      "4      34510     5          0          4          0        0   \n",
      "...      ...   ...        ...        ...        ...      ...   \n",
      "94995  56346     4          2          5          0        0   \n",
      "94996  90970     2          0          4          0        2   \n",
      "94997  49595     0          2          0          1        2   \n",
      "94998  46912     4          1          6          0        3   \n",
      "94999  91412     1          1          4          0        0   \n",
      "\n",
      "       PhoneBrandPopularity  \n",
      "0                         1  \n",
      "1                         2  \n",
      "2                         1  \n",
      "3                         2  \n",
      "4                         1  \n",
      "...                     ...  \n",
      "94995                     0  \n",
      "94996                     0  \n",
      "94997                     0  \n",
      "94998                     1  \n",
      "94999                     2  \n",
      "\n",
      "[95000 rows x 7 columns]\n"
     ]
    }
   ],
   "source": [
    "# Initialize LabelEncoder\n",
    "label_encoder = LabelEncoder()\n",
    "\n",
    "# Encode categorical columns\n",
    "for column in df.select_dtypes(include=['object']).columns:\n",
    "    df[column] = label_encoder.fit_transform(df[column])\n",
    "\n",
    "# Print encoded DataFrame\n",
    "print(df)"
   ]
  },
  {
   "cell_type": "code",
   "execution_count": 2046,
   "metadata": {},
   "outputs": [
    {
     "name": "stdout",
     "output_type": "stream",
     "text": [
      "Unique values of id: [26183 30456 53878 ... 49595 46912 91412]\n",
      "Unique values of City: [2 4 1 0 5 3]\n",
      "Unique values of TimeOfDay: [3 2 1 0]\n",
      "Unique values of DayOfWeek: [4 0 1 6 2 5 3]\n",
      "Unique values of IsWeekend: [0 1]\n",
      "Unique values of Weather: [0 3 1 2]\n",
      "Unique values of PhoneBrandPopularity: [1 2 0]\n"
     ]
    },
    {
     "data": {
      "text/html": [
       "<div>\n",
       "<style scoped>\n",
       "    .dataframe tbody tr th:only-of-type {\n",
       "        vertical-align: middle;\n",
       "    }\n",
       "\n",
       "    .dataframe tbody tr th {\n",
       "        vertical-align: top;\n",
       "    }\n",
       "\n",
       "    .dataframe thead th {\n",
       "        text-align: right;\n",
       "    }\n",
       "</style>\n",
       "<table border=\"1\" class=\"dataframe\">\n",
       "  <thead>\n",
       "    <tr style=\"text-align: right;\">\n",
       "      <th></th>\n",
       "      <th>id</th>\n",
       "      <th>City</th>\n",
       "      <th>TimeOfDay</th>\n",
       "      <th>DayOfWeek</th>\n",
       "      <th>IsWeekend</th>\n",
       "      <th>Weather</th>\n",
       "      <th>PhoneBrandPopularity</th>\n",
       "    </tr>\n",
       "  </thead>\n",
       "  <tbody>\n",
       "    <tr>\n",
       "      <th>0</th>\n",
       "      <td>26183</td>\n",
       "      <td>2</td>\n",
       "      <td>3</td>\n",
       "      <td>4</td>\n",
       "      <td>0</td>\n",
       "      <td>0</td>\n",
       "      <td>1</td>\n",
       "    </tr>\n",
       "    <tr>\n",
       "      <th>1</th>\n",
       "      <td>30456</td>\n",
       "      <td>4</td>\n",
       "      <td>3</td>\n",
       "      <td>0</td>\n",
       "      <td>1</td>\n",
       "      <td>3</td>\n",
       "      <td>2</td>\n",
       "    </tr>\n",
       "    <tr>\n",
       "      <th>2</th>\n",
       "      <td>53878</td>\n",
       "      <td>1</td>\n",
       "      <td>2</td>\n",
       "      <td>4</td>\n",
       "      <td>0</td>\n",
       "      <td>1</td>\n",
       "      <td>1</td>\n",
       "    </tr>\n",
       "    <tr>\n",
       "      <th>3</th>\n",
       "      <td>52053</td>\n",
       "      <td>0</td>\n",
       "      <td>1</td>\n",
       "      <td>0</td>\n",
       "      <td>1</td>\n",
       "      <td>2</td>\n",
       "      <td>2</td>\n",
       "    </tr>\n",
       "    <tr>\n",
       "      <th>4</th>\n",
       "      <td>34510</td>\n",
       "      <td>5</td>\n",
       "      <td>0</td>\n",
       "      <td>4</td>\n",
       "      <td>0</td>\n",
       "      <td>0</td>\n",
       "      <td>1</td>\n",
       "    </tr>\n",
       "  </tbody>\n",
       "</table>\n",
       "</div>"
      ],
      "text/plain": [
       "      id  City  TimeOfDay  DayOfWeek  IsWeekend  Weather  PhoneBrandPopularity\n",
       "0  26183     2          3          4          0        0                     1\n",
       "1  30456     4          3          0          1        3                     2\n",
       "2  53878     1          2          4          0        1                     1\n",
       "3  52053     0          1          0          1        2                     2\n",
       "4  34510     5          0          4          0        0                     1"
      ]
     },
     "execution_count": 2046,
     "metadata": {},
     "output_type": "execute_result"
    }
   ],
   "source": [
    "for column in df.columns:\n",
    "   unique_values = df[column].unique()\n",
    "   print(f\"Unique values of {column}: {unique_values}\")\n",
    "df.head()"
   ]
  },
  {
   "cell_type": "code",
   "execution_count": 2047,
   "metadata": {},
   "outputs": [
    {
     "data": {
      "image/png": "[encoded data removed]",
      "text/plain": [
       "<Figure size 1200x1000 with 2 Axes>"
      ]
     },
     "metadata": {},
     "output_type": "display_data"
    }
   ],
   "source": [
    "# Visualize the correlation matrix using a heatmap\n",
    "data3 = df.drop(['id'],axis=1)\n",
    "correlation_matrix = data3.corr()\n",
    "plt.figure(figsize=(12, 10))\n",
    "sns.heatmap(correlation_matrix, annot=True, cmap='coolwarm', fmt=\".2f\")\n",
    "plt.title('Correlation Matrix')\n",
    "plt.show()\n"
   ]
  },
  {
   "cell_type": "markdown",
   "metadata": {},
   "source": [
    "# ML"
   ]
  },
  {
   "cell_type": "code",
   "execution_count": 2048,
   "metadata": {},
   "outputs": [
    {
     "data": {
      "text/html": [
       "<div>\n",
       "<style scoped>\n",
       "    .dataframe tbody tr th:only-of-type {\n",
       "        vertical-align: middle;\n",
       "    }\n",
       "\n",
       "    .dataframe tbody tr th {\n",
       "        vertical-align: top;\n",
       "    }\n",
       "\n",
       "    .dataframe thead th {\n",
       "        text-align: right;\n",
       "    }\n",
       "</style>\n",
       "<table border=\"1\" class=\"dataframe\">\n",
       "  <thead>\n",
       "    <tr style=\"text-align: right;\">\n",
       "      <th></th>\n",
       "      <th>id</th>\n",
       "      <th>City</th>\n",
       "      <th>TimeOfDay</th>\n",
       "      <th>DayOfWeek</th>\n",
       "      <th>IsWeekend</th>\n",
       "      <th>Weather</th>\n",
       "      <th>PhoneBrandPopularity</th>\n",
       "      <th>HighRisk</th>\n",
       "    </tr>\n",
       "  </thead>\n",
       "  <tbody>\n",
       "    <tr>\n",
       "      <th>0</th>\n",
       "      <td>26183</td>\n",
       "      <td>2</td>\n",
       "      <td>3</td>\n",
       "      <td>4</td>\n",
       "      <td>0</td>\n",
       "      <td>0</td>\n",
       "      <td>1</td>\n",
       "      <td>0</td>\n",
       "    </tr>\n",
       "    <tr>\n",
       "      <th>1</th>\n",
       "      <td>30456</td>\n",
       "      <td>4</td>\n",
       "      <td>3</td>\n",
       "      <td>0</td>\n",
       "      <td>1</td>\n",
       "      <td>3</td>\n",
       "      <td>2</td>\n",
       "      <td>1</td>\n",
       "    </tr>\n",
       "    <tr>\n",
       "      <th>2</th>\n",
       "      <td>53878</td>\n",
       "      <td>1</td>\n",
       "      <td>2</td>\n",
       "      <td>4</td>\n",
       "      <td>0</td>\n",
       "      <td>1</td>\n",
       "      <td>1</td>\n",
       "      <td>1</td>\n",
       "    </tr>\n",
       "    <tr>\n",
       "      <th>3</th>\n",
       "      <td>52053</td>\n",
       "      <td>0</td>\n",
       "      <td>1</td>\n",
       "      <td>0</td>\n",
       "      <td>1</td>\n",
       "      <td>2</td>\n",
       "      <td>2</td>\n",
       "      <td>1</td>\n",
       "    </tr>\n",
       "    <tr>\n",
       "      <th>4</th>\n",
       "      <td>34510</td>\n",
       "      <td>5</td>\n",
       "      <td>0</td>\n",
       "      <td>4</td>\n",
       "      <td>0</td>\n",
       "      <td>0</td>\n",
       "      <td>1</td>\n",
       "      <td>0</td>\n",
       "    </tr>\n",
       "  </tbody>\n",
       "</table>\n",
       "</div>"
      ],
      "text/plain": [
       "      id  City  TimeOfDay  DayOfWeek  IsWeekend  Weather  \\\n",
       "0  26183     2          3          4          0        0   \n",
       "1  30456     4          3          0          1        3   \n",
       "2  53878     1          2          4          0        1   \n",
       "3  52053     0          1          0          1        2   \n",
       "4  34510     5          0          4          0        0   \n",
       "\n",
       "   PhoneBrandPopularity  HighRisk  \n",
       "0                     1         0  \n",
       "1                     2         1  \n",
       "2                     1         1  \n",
       "3                     2         1  \n",
       "4                     1         0  "
      ]
     },
     "execution_count": 2048,
     "metadata": {},
     "output_type": "execute_result"
    }
   ],
   "source": [
    "y_train = pd.read_csv(\"y_train.csv\")\n",
    "data = pd.merge(df, y_train, on='id')\n",
    "data.head()"
   ]
  },
  {
   "cell_type": "code",
   "execution_count": 2049,
   "metadata": {},
   "outputs": [],
   "source": [
    "rows_to_drop = data[data['HighRisk'] == 0].index[:34000]\n",
    "\n",
    "data = data.drop(rows_to_drop)\n"
   ]
  },
  {
   "cell_type": "code",
   "execution_count": 2050,
   "metadata": {},
   "outputs": [
    {
     "data": {
      "text/plain": [
       "HighRisk\n",
       "1    30757\n",
       "0    30243\n",
       "Name: count, dtype: int64"
      ]
     },
     "execution_count": 2050,
     "metadata": {},
     "output_type": "execute_result"
    }
   ],
   "source": [
    "data['HighRisk'].value_counts()\n"
   ]
  },
  {
   "cell_type": "code",
   "execution_count": 2051,
   "metadata": {},
   "outputs": [],
   "source": [
    "X = data.drop([ 'id','HighRisk','IsWeekend'], axis=1)  \n",
    "y = data['HighRisk'] \n",
    "X_train, X_test, y_train, y_test = train_test_split(X, y, test_size=0.3, random_state=42, stratify=y)"
   ]
  },
  {
   "cell_type": "code",
   "execution_count": 2052,
   "metadata": {},
   "outputs": [
    {
     "name": "stdout",
     "output_type": "stream",
     "text": [
      "Selected Features: Index(['City', 'TimeOfDay', 'DayOfWeek', 'Weather', 'PhoneBrandPopularity'], dtype='object')\n"
     ]
    }
   ],
   "source": [
    "#features selection\n",
    "from sklearn.feature_selection import RFE\n",
    "clf = RandomForestClassifier()\n",
    "rfe = RFE(estimator=clf, n_features_to_select=5)  # Select top 5 features\n",
    "\n",
    "rfe.fit(X, y)\n",
    "selected_indices = rfe.support_\n",
    "\n",
    "# Get selected feature names\n",
    "selected_features = X.columns[selected_indices]\n",
    "\n",
    "# Print selected features\n",
    "print(\"Selected Features:\", selected_features)"
   ]
  },
  {
   "cell_type": "code",
   "execution_count": 2053,
   "metadata": {},
   "outputs": [
    {
     "name": "stdout",
     "output_type": "stream",
     "text": [
      "Accuracy: 0.5033879781420765\n",
      "              precision    recall  f1-score   support\n",
      "\n",
      "           0       0.50      0.25      0.33      9073\n",
      "           1       0.51      0.76      0.61      9227\n",
      "\n",
      "    accuracy                           0.50     18300\n",
      "   macro avg       0.50      0.50      0.47     18300\n",
      "weighted avg       0.50      0.50      0.47     18300\n",
      "\n"
     ]
    }
   ],
   "source": [
    "#logistic regression\n",
    "logistic_model = LogisticRegression()\n",
    "logistic_model.fit(X_train, y_train)\n",
    "logistic_predictions = logistic_model.predict(X_test)\n",
    "\n",
    "print(\"Accuracy:\", accuracy_score(y_test, logistic_predictions))\n",
    "print(classification_report(y_test, logistic_predictions))"
   ]
  },
  {
   "cell_type": "code",
   "execution_count": 2054,
   "metadata": {},
   "outputs": [
    {
     "name": "stdout",
     "output_type": "stream",
     "text": [
      "Accuracy: 0.5013114754098361\n"
     ]
    }
   ],
   "source": [
    "#random forest\n",
    "rf_model = RandomForestClassifier(n_estimators=50, random_state=20)\n",
    "rf_model.fit(X_train, y_train)\n",
    "rf_predictions = rf_model.predict(X_test)\n",
    "print(\"Accuracy:\", accuracy_score(y_test, rf_predictions))"
   ]
  },
  {
   "cell_type": "code",
   "execution_count": 2055,
   "metadata": {},
   "outputs": [
    {
     "name": "stdout",
     "output_type": "stream",
     "text": [
      "Accuracy: 0.49901639344262294\n"
     ]
    }
   ],
   "source": [
    "#xgboot\n",
    "import xgboost as xgb\n",
    "model = xgb.XGBClassifier()\n",
    "model.fit(X_train, y_train)\n",
    "\n",
    "# Make predictions on the testing set\n",
    "y_pred = model.predict(X_test)\n",
    "\n",
    "# Calculate accuracy\n",
    "print(\"Accuracy:\", accuracy_score(y_test, y_pred))"
   ]
  },
  {
   "cell_type": "markdown",
   "metadata": {},
   "source": [
    "# DL"
   ]
  },
  {
   "cell_type": "code",
   "execution_count": 2056,
   "metadata": {},
   "outputs": [
    {
     "name": "stdout",
     "output_type": "stream",
     "text": [
      "Epoch 1/100\n",
      "1068/1068 [==============================] - 4s 3ms/step - loss: 0.7459 - accuracy: 0.4996 - val_loss: 0.6976 - val_accuracy: 0.4995\n",
      "Epoch 2/100\n",
      "1068/1068 [==============================] - 3s 3ms/step - loss: 0.6971 - accuracy: 0.5035 - val_loss: 0.6970 - val_accuracy: 0.4981\n",
      "Epoch 3/100\n",
      "1068/1068 [==============================] - 3s 2ms/step - loss: 0.6961 - accuracy: 0.4992 - val_loss: 0.6958 - val_accuracy: 0.4966\n",
      "Epoch 4/100\n",
      "1068/1068 [==============================] - 2s 2ms/step - loss: 0.6950 - accuracy: 0.5085 - val_loss: 0.6943 - val_accuracy: 0.5006\n",
      "Epoch 5/100\n",
      "1068/1068 [==============================] - 3s 2ms/step - loss: 0.6947 - accuracy: 0.5076 - val_loss: 0.6951 - val_accuracy: 0.4961\n",
      "Epoch 6/100\n",
      "1068/1068 [==============================] - 2s 2ms/step - loss: 0.6945 - accuracy: 0.5018 - val_loss: 0.6950 - val_accuracy: 0.4973\n",
      "Epoch 7/100\n",
      "1068/1068 [==============================] - 3s 2ms/step - loss: 0.6941 - accuracy: 0.5046 - val_loss: 0.6954 - val_accuracy: 0.4977\n",
      "Epoch 8/100\n",
      "1068/1068 [==============================] - 3s 3ms/step - loss: 0.6943 - accuracy: 0.4997 - val_loss: 0.6937 - val_accuracy: 0.4953\n",
      "Epoch 9/100\n",
      "1068/1068 [==============================] - 3s 2ms/step - loss: 0.6939 - accuracy: 0.5016 - val_loss: 0.6951 - val_accuracy: 0.5019\n",
      "Epoch 10/100\n",
      "1068/1068 [==============================] - 2s 2ms/step - loss: 0.6939 - accuracy: 0.5056 - val_loss: 0.6940 - val_accuracy: 0.5050\n",
      "Epoch 11/100\n",
      "1068/1068 [==============================] - 2s 2ms/step - loss: 0.6940 - accuracy: 0.5057 - val_loss: 0.6935 - val_accuracy: 0.4946\n",
      "Epoch 12/100\n",
      "1068/1068 [==============================] - 2s 2ms/step - loss: 0.6937 - accuracy: 0.5049 - val_loss: 0.6938 - val_accuracy: 0.4998\n",
      "Epoch 13/100\n",
      "1068/1068 [==============================] - 3s 3ms/step - loss: 0.6936 - accuracy: 0.5052 - val_loss: 0.6934 - val_accuracy: 0.5018\n",
      "Epoch 14/100\n",
      "1068/1068 [==============================] - 3s 3ms/step - loss: 0.6936 - accuracy: 0.5040 - val_loss: 0.6935 - val_accuracy: 0.4958\n",
      "Epoch 15/100\n",
      "1068/1068 [==============================] - 3s 3ms/step - loss: 0.6936 - accuracy: 0.5016 - val_loss: 0.6941 - val_accuracy: 0.5030\n",
      "Epoch 16/100\n",
      "1068/1068 [==============================] - 3s 2ms/step - loss: 0.6937 - accuracy: 0.5046 - val_loss: 0.6938 - val_accuracy: 0.5028\n",
      "Epoch 17/100\n",
      "1068/1068 [==============================] - 3s 2ms/step - loss: 0.6934 - accuracy: 0.5030 - val_loss: 0.6937 - val_accuracy: 0.4961\n",
      "Epoch 18/100\n",
      "1068/1068 [==============================] - 3s 2ms/step - loss: 0.6934 - accuracy: 0.5063 - val_loss: 0.6940 - val_accuracy: 0.5036\n",
      "Epoch 19/100\n",
      "1068/1068 [==============================] - 3s 3ms/step - loss: 0.6933 - accuracy: 0.5082 - val_loss: 0.6938 - val_accuracy: 0.4979\n",
      "Epoch 20/100\n",
      "1068/1068 [==============================] - 3s 3ms/step - loss: 0.6933 - accuracy: 0.5085 - val_loss: 0.6948 - val_accuracy: 0.5023\n",
      "Epoch 21/100\n",
      "1068/1068 [==============================] - 3s 2ms/step - loss: 0.6935 - accuracy: 0.5028 - val_loss: 0.6942 - val_accuracy: 0.5018\n",
      "Epoch 22/100\n",
      "1068/1068 [==============================] - 3s 2ms/step - loss: 0.6934 - accuracy: 0.5049 - val_loss: 0.6939 - val_accuracy: 0.4972\n",
      "Epoch 23/100\n",
      "1068/1068 [==============================] - 3s 2ms/step - loss: 0.6934 - accuracy: 0.5046 - val_loss: 0.6970 - val_accuracy: 0.5019\n",
      "Epoch 24/100\n",
      "1068/1068 [==============================] - 3s 2ms/step - loss: 0.6933 - accuracy: 0.5103 - val_loss: 0.6943 - val_accuracy: 0.5041\n",
      "Epoch 25/100\n",
      "1068/1068 [==============================] - 3s 3ms/step - loss: 0.6934 - accuracy: 0.5052 - val_loss: 0.6936 - val_accuracy: 0.4975\n",
      "Epoch 26/100\n",
      "1068/1068 [==============================] - 3s 2ms/step - loss: 0.6934 - accuracy: 0.5049 - val_loss: 0.6937 - val_accuracy: 0.4973\n",
      "Epoch 27/100\n",
      "1068/1068 [==============================] - 2s 2ms/step - loss: 0.6934 - accuracy: 0.5063 - val_loss: 0.6935 - val_accuracy: 0.4977\n",
      "Epoch 28/100\n",
      "1068/1068 [==============================] - 2s 2ms/step - loss: 0.6933 - accuracy: 0.5086 - val_loss: 0.6936 - val_accuracy: 0.4977\n",
      "Epoch 29/100\n",
      "1068/1068 [==============================] - 2s 2ms/step - loss: 0.6933 - accuracy: 0.5085 - val_loss: 0.6937 - val_accuracy: 0.4992\n",
      "Epoch 30/100\n",
      "1068/1068 [==============================] - 3s 2ms/step - loss: 0.6931 - accuracy: 0.5078 - val_loss: 0.6954 - val_accuracy: 0.4991\n",
      "Epoch 31/100\n",
      "1068/1068 [==============================] - 3s 3ms/step - loss: 0.6933 - accuracy: 0.5071 - val_loss: 0.6946 - val_accuracy: 0.5005\n",
      "Epoch 32/100\n",
      "1068/1068 [==============================] - 3s 3ms/step - loss: 0.6932 - accuracy: 0.5079 - val_loss: 0.6938 - val_accuracy: 0.5015\n",
      "Epoch 33/100\n",
      "1068/1068 [==============================] - 2s 2ms/step - loss: 0.6930 - accuracy: 0.5131 - val_loss: 0.6947 - val_accuracy: 0.4989\n",
      "Epoch 34/100\n",
      "1068/1068 [==============================] - 3s 2ms/step - loss: 0.6930 - accuracy: 0.5094 - val_loss: 0.6941 - val_accuracy: 0.4965\n",
      "Epoch 35/100\n",
      "1068/1068 [==============================] - 2s 2ms/step - loss: 0.6930 - accuracy: 0.5080 - val_loss: 0.6937 - val_accuracy: 0.4959\n",
      "Epoch 36/100\n",
      "1068/1068 [==============================] - 3s 3ms/step - loss: 0.6931 - accuracy: 0.5097 - val_loss: 0.6943 - val_accuracy: 0.4972\n",
      "Epoch 37/100\n",
      "1068/1068 [==============================] - 2s 2ms/step - loss: 0.6931 - accuracy: 0.5098 - val_loss: 0.6938 - val_accuracy: 0.4973\n",
      "Epoch 38/100\n",
      "1068/1068 [==============================] - 2s 2ms/step - loss: 0.6931 - accuracy: 0.5085 - val_loss: 0.6949 - val_accuracy: 0.5006\n",
      "Epoch 39/100\n",
      "1068/1068 [==============================] - 2s 2ms/step - loss: 0.6931 - accuracy: 0.5065 - val_loss: 0.6939 - val_accuracy: 0.5028\n",
      "Epoch 40/100\n",
      "1068/1068 [==============================] - 3s 3ms/step - loss: 0.6931 - accuracy: 0.5079 - val_loss: 0.6943 - val_accuracy: 0.4975\n",
      "Epoch 41/100\n",
      "1068/1068 [==============================] - 3s 3ms/step - loss: 0.6931 - accuracy: 0.5101 - val_loss: 0.6937 - val_accuracy: 0.4993\n",
      "Epoch 42/100\n",
      "1068/1068 [==============================] - 2s 2ms/step - loss: 0.6931 - accuracy: 0.5090 - val_loss: 0.6940 - val_accuracy: 0.4998\n",
      "Epoch 43/100\n",
      "1068/1068 [==============================] - 3s 3ms/step - loss: 0.6929 - accuracy: 0.5095 - val_loss: 0.6942 - val_accuracy: 0.4958\n",
      "Epoch 44/100\n",
      "1068/1068 [==============================] - 3s 3ms/step - loss: 0.6930 - accuracy: 0.5108 - val_loss: 0.6942 - val_accuracy: 0.4991\n",
      "Epoch 45/100\n",
      "1068/1068 [==============================] - 3s 2ms/step - loss: 0.6930 - accuracy: 0.5098 - val_loss: 0.6939 - val_accuracy: 0.4981\n",
      "Epoch 46/100\n",
      "1068/1068 [==============================] - 3s 3ms/step - loss: 0.6929 - accuracy: 0.5128 - val_loss: 0.6943 - val_accuracy: 0.4994\n",
      "Epoch 47/100\n",
      "1068/1068 [==============================] - 3s 3ms/step - loss: 0.6929 - accuracy: 0.5111 - val_loss: 0.6937 - val_accuracy: 0.5002\n",
      "Epoch 48/100\n",
      "1068/1068 [==============================] - 2s 2ms/step - loss: 0.6929 - accuracy: 0.5127 - val_loss: 0.6943 - val_accuracy: 0.5006\n",
      "Epoch 49/100\n",
      "1068/1068 [==============================] - 3s 3ms/step - loss: 0.6930 - accuracy: 0.5084 - val_loss: 0.6938 - val_accuracy: 0.4963\n",
      "Epoch 50/100\n",
      "1068/1068 [==============================] - 3s 3ms/step - loss: 0.6928 - accuracy: 0.5136 - val_loss: 0.6943 - val_accuracy: 0.5000\n",
      "Epoch 51/100\n",
      "1068/1068 [==============================] - 6s 5ms/step - loss: 0.6928 - accuracy: 0.5131 - val_loss: 0.6938 - val_accuracy: 0.4982\n",
      "Epoch 52/100\n",
      "1068/1068 [==============================] - 6s 5ms/step - loss: 0.6927 - accuracy: 0.5138 - val_loss: 0.6939 - val_accuracy: 0.4982\n",
      "Epoch 53/100\n",
      "1068/1068 [==============================] - 6s 5ms/step - loss: 0.6927 - accuracy: 0.5131 - val_loss: 0.6943 - val_accuracy: 0.4964\n",
      "Epoch 54/100\n",
      "1068/1068 [==============================] - 3s 3ms/step - loss: 0.6926 - accuracy: 0.5150 - val_loss: 0.6946 - val_accuracy: 0.4968\n",
      "Epoch 55/100\n",
      "1068/1068 [==============================] - 2s 2ms/step - loss: 0.6928 - accuracy: 0.5144 - val_loss: 0.6941 - val_accuracy: 0.5006\n",
      "Epoch 56/100\n",
      "1068/1068 [==============================] - 2s 2ms/step - loss: 0.6929 - accuracy: 0.5115 - val_loss: 0.6938 - val_accuracy: 0.5040\n",
      "Epoch 57/100\n",
      "1068/1068 [==============================] - 2s 2ms/step - loss: 0.6927 - accuracy: 0.5151 - val_loss: 0.6937 - val_accuracy: 0.5025\n",
      "Epoch 58/100\n",
      "1068/1068 [==============================] - 3s 2ms/step - loss: 0.6927 - accuracy: 0.5145 - val_loss: 0.6937 - val_accuracy: 0.5012\n",
      "Epoch 59/100\n",
      "1068/1068 [==============================] - 2s 2ms/step - loss: 0.6928 - accuracy: 0.5142 - val_loss: 0.6939 - val_accuracy: 0.5033\n",
      "Epoch 60/100\n",
      "1068/1068 [==============================] - 2s 2ms/step - loss: 0.6929 - accuracy: 0.5126 - val_loss: 0.6938 - val_accuracy: 0.4988\n",
      "Epoch 61/100\n",
      "1068/1068 [==============================] - 2s 2ms/step - loss: 0.6927 - accuracy: 0.5153 - val_loss: 0.6944 - val_accuracy: 0.4963\n",
      "Epoch 62/100\n",
      "1068/1068 [==============================] - 3s 2ms/step - loss: 0.6927 - accuracy: 0.5142 - val_loss: 0.6941 - val_accuracy: 0.4977\n",
      "Epoch 63/100\n",
      "1068/1068 [==============================] - 2s 2ms/step - loss: 0.6926 - accuracy: 0.5133 - val_loss: 0.6939 - val_accuracy: 0.4994\n",
      "Epoch 64/100\n",
      "1068/1068 [==============================] - 2s 2ms/step - loss: 0.6927 - accuracy: 0.5115 - val_loss: 0.6940 - val_accuracy: 0.5019\n",
      "Epoch 65/100\n",
      "1068/1068 [==============================] - 3s 3ms/step - loss: 0.6925 - accuracy: 0.5167 - val_loss: 0.6942 - val_accuracy: 0.5001\n",
      "Epoch 66/100\n",
      "1068/1068 [==============================] - 3s 3ms/step - loss: 0.6927 - accuracy: 0.5121 - val_loss: 0.6940 - val_accuracy: 0.4960\n",
      "Epoch 67/100\n",
      "1068/1068 [==============================] - 3s 3ms/step - loss: 0.6926 - accuracy: 0.5129 - val_loss: 0.6938 - val_accuracy: 0.4998\n",
      "Epoch 68/100\n",
      "1068/1068 [==============================] - 3s 3ms/step - loss: 0.6926 - accuracy: 0.5170 - val_loss: 0.6942 - val_accuracy: 0.4996\n",
      "Epoch 69/100\n",
      "1068/1068 [==============================] - 3s 2ms/step - loss: 0.6927 - accuracy: 0.5150 - val_loss: 0.6942 - val_accuracy: 0.4958\n",
      "Epoch 70/100\n",
      "1068/1068 [==============================] - 3s 2ms/step - loss: 0.6926 - accuracy: 0.5157 - val_loss: 0.6941 - val_accuracy: 0.5026\n",
      "Epoch 71/100\n",
      "1068/1068 [==============================] - 3s 2ms/step - loss: 0.6925 - accuracy: 0.5154 - val_loss: 0.6939 - val_accuracy: 0.5053\n",
      "Epoch 72/100\n",
      "1068/1068 [==============================] - 2s 2ms/step - loss: 0.6926 - accuracy: 0.5130 - val_loss: 0.6940 - val_accuracy: 0.4965\n",
      "Epoch 73/100\n",
      "1068/1068 [==============================] - 3s 2ms/step - loss: 0.6927 - accuracy: 0.5153 - val_loss: 0.6941 - val_accuracy: 0.5014\n",
      "Epoch 74/100\n",
      "1068/1068 [==============================] - 2s 2ms/step - loss: 0.6925 - accuracy: 0.5150 - val_loss: 0.6944 - val_accuracy: 0.4952\n",
      "Epoch 75/100\n",
      "1068/1068 [==============================] - 2s 2ms/step - loss: 0.6925 - accuracy: 0.5154 - val_loss: 0.6941 - val_accuracy: 0.4963\n",
      "Epoch 76/100\n",
      "1068/1068 [==============================] - 2s 2ms/step - loss: 0.6927 - accuracy: 0.5154 - val_loss: 0.6943 - val_accuracy: 0.4991\n",
      "Epoch 77/100\n",
      "1068/1068 [==============================] - 3s 2ms/step - loss: 0.6923 - accuracy: 0.5174 - val_loss: 0.6940 - val_accuracy: 0.5002\n",
      "Epoch 78/100\n",
      "1068/1068 [==============================] - 2s 2ms/step - loss: 0.6924 - accuracy: 0.5162 - val_loss: 0.6938 - val_accuracy: 0.4979\n",
      "Epoch 79/100\n",
      "1068/1068 [==============================] - 2s 2ms/step - loss: 0.6923 - accuracy: 0.5186 - val_loss: 0.6951 - val_accuracy: 0.4960\n",
      "Epoch 80/100\n",
      "1068/1068 [==============================] - 2s 2ms/step - loss: 0.6924 - accuracy: 0.5167 - val_loss: 0.6944 - val_accuracy: 0.4980\n",
      "Epoch 81/100\n",
      "1068/1068 [==============================] - 3s 3ms/step - loss: 0.6925 - accuracy: 0.5164 - val_loss: 0.6943 - val_accuracy: 0.5009\n",
      "Epoch 82/100\n",
      "1068/1068 [==============================] - 3s 2ms/step - loss: 0.6925 - accuracy: 0.5157 - val_loss: 0.6940 - val_accuracy: 0.4964\n",
      "Epoch 83/100\n",
      "1068/1068 [==============================] - 2s 2ms/step - loss: 0.6925 - accuracy: 0.5155 - val_loss: 0.6941 - val_accuracy: 0.4918\n",
      "Epoch 84/100\n",
      "1068/1068 [==============================] - 3s 2ms/step - loss: 0.6925 - accuracy: 0.5168 - val_loss: 0.6941 - val_accuracy: 0.5027\n",
      "Epoch 85/100\n",
      "1068/1068 [==============================] - 2s 2ms/step - loss: 0.6924 - accuracy: 0.5175 - val_loss: 0.6944 - val_accuracy: 0.4945\n",
      "Epoch 86/100\n",
      "1068/1068 [==============================] - 2s 2ms/step - loss: 0.6925 - accuracy: 0.5157 - val_loss: 0.6941 - val_accuracy: 0.4964\n",
      "Epoch 87/100\n",
      "1068/1068 [==============================] - 2s 2ms/step - loss: 0.6926 - accuracy: 0.5145 - val_loss: 0.6943 - val_accuracy: 0.4973\n",
      "Epoch 88/100\n",
      "1068/1068 [==============================] - 2s 2ms/step - loss: 0.6922 - accuracy: 0.5191 - val_loss: 0.6952 - val_accuracy: 0.5012\n",
      "Epoch 89/100\n",
      "1068/1068 [==============================] - 3s 2ms/step - loss: 0.6922 - accuracy: 0.5177 - val_loss: 0.6971 - val_accuracy: 0.4994\n",
      "Epoch 90/100\n",
      "1068/1068 [==============================] - 2s 2ms/step - loss: 0.6925 - accuracy: 0.5171 - val_loss: 0.6945 - val_accuracy: 0.4986\n",
      "Epoch 91/100\n",
      "1068/1068 [==============================] - 3s 2ms/step - loss: 0.6924 - accuracy: 0.5162 - val_loss: 0.6943 - val_accuracy: 0.4972\n",
      "Epoch 92/100\n",
      "1068/1068 [==============================] - 3s 3ms/step - loss: 0.6923 - accuracy: 0.5211 - val_loss: 0.6940 - val_accuracy: 0.5044\n",
      "Epoch 93/100\n",
      "1068/1068 [==============================] - 2s 2ms/step - loss: 0.6923 - accuracy: 0.5181 - val_loss: 0.6945 - val_accuracy: 0.4947\n",
      "Epoch 94/100\n",
      "1068/1068 [==============================] - 2s 2ms/step - loss: 0.6923 - accuracy: 0.5170 - val_loss: 0.6943 - val_accuracy: 0.4953\n",
      "Epoch 95/100\n",
      "1068/1068 [==============================] - 2s 2ms/step - loss: 0.6923 - accuracy: 0.5191 - val_loss: 0.6940 - val_accuracy: 0.5034\n",
      "Epoch 96/100\n",
      "1068/1068 [==============================] - 3s 3ms/step - loss: 0.6922 - accuracy: 0.5187 - val_loss: 0.6941 - val_accuracy: 0.5014\n",
      "Epoch 97/100\n",
      "1068/1068 [==============================] - 3s 2ms/step - loss: 0.6922 - accuracy: 0.5172 - val_loss: 0.6945 - val_accuracy: 0.4982\n",
      "Epoch 98/100\n",
      "1068/1068 [==============================] - 2s 2ms/step - loss: 0.6922 - accuracy: 0.5178 - val_loss: 0.6945 - val_accuracy: 0.4950\n",
      "Epoch 99/100\n",
      "1068/1068 [==============================] - 2s 2ms/step - loss: 0.6922 - accuracy: 0.5159 - val_loss: 0.6943 - val_accuracy: 0.5043\n",
      "Epoch 100/100\n",
      "1068/1068 [==============================] - 2s 2ms/step - loss: 0.6921 - accuracy: 0.5209 - val_loss: 0.6943 - val_accuracy: 0.4988\n",
      "572/572 [==============================] - 1s 2ms/step - loss: 0.6946 - accuracy: 0.5041\n",
      "Test accuracy: 0.5040983557701111\n"
     ]
    }
   ],
   "source": [
    "#deep learning model\n",
    "# Standardize the features\n",
    "def swish(x):\n",
    "    return x * tf.sigmoid(x)\n",
    "\n",
    "scaler = StandardScaler()\n",
    "X_train_scaled = scaler.fit_transform(X_train)\n",
    "X_test_scaled = scaler.transform(X_test)\n",
    "\n",
    "# Build deep learning model\n",
    "dl_model = keras.Sequential([\n",
    "    layers.Input(shape=(X_train_scaled.shape[1],)),\n",
    "    layers.Dense(64, activation=swish),\n",
    "    layers.Dense(32, activation=swish),\n",
    "    layers.Dense(16, activation=swish),\n",
    "    layers.Dense(1, activation=swish)\n",
    "])\n",
    "\n",
    "# Compile the model\n",
    "dl_model.compile(optimizer='adam', loss='binary_crossentropy', metrics=['accuracy'])\n",
    "\n",
    "# Fit the model\n",
    "dl_model.fit(X_train_scaled, y_train, epochs=100, batch_size=32, validation_split=0.2)\n",
    "\n",
    "# Evaluate the model\n",
    "test_loss, test_acc = dl_model.evaluate(X_test_scaled, y_test)\n",
    "print('Test accuracy:', test_acc)"
   ]
  },
  {
   "cell_type": "markdown",
   "metadata": {},
   "source": [
    "# Submission"
   ]
  },
  {
   "cell_type": "code",
   "execution_count": 2058,
   "metadata": {},
   "outputs": [
    {
     "data": {
      "text/plain": [
       "(      id          City  TimeOfDay  DayOfWeek  IsWeekend Weather  \\\n",
       " 0  38665       El Koba  Afternoon   Saturday          0   Sunny   \n",
       " 1  35050   Bab Ezzouar      Night     Friday          0   Rainy   \n",
       " 2  82586    El Harrach    Morning   Thursday          0  Stormy   \n",
       " 3  58728    El Harrach    Morning  Wednesday          0   Rainy   \n",
       " 4   9507  Oued El Smar    Morning     Monday          1  Stormy   \n",
       " \n",
       "   PhoneBrandPopularity  \n",
       " 0                 High  \n",
       " 1               Medium  \n",
       " 2                  Low  \n",
       " 3                  Low  \n",
       " 4                  Low  ,)"
      ]
     },
     "execution_count": 2058,
     "metadata": {},
     "output_type": "execute_result"
    }
   ],
   "source": [
    "df_test = pd.read_csv('X_test.csv')\n",
    "df_test.head(),"
   ]
  },
  {
   "cell_type": "code",
   "execution_count": 2059,
   "metadata": {},
   "outputs": [
    {
     "name": "stdout",
     "output_type": "stream",
     "text": [
      "Unique values of id: [38665 35050 82586 ... 68104 83657 74851]\n",
      "Unique values of City: ['El Koba' 'Bab Ezzouar' 'El Harrach' 'Oued El Smar' 'Bab El Oued'\n",
      " 'Ben Aknoun']\n",
      "Unique values of TimeOfDay: ['Afternoon' 'Night' 'Morning' 'Evening']\n",
      "Unique values of DayOfWeek: ['Saturday' 'Friday' 'Thursday' 'Wednesday' 'Monday' 'Tuesday' 'Sunday']\n",
      "Unique values of IsWeekend: [0 1]\n",
      "Unique values of Weather: ['Sunny' 'Rainy' 'Stormy' 'Cloudy']\n",
      "Unique values of PhoneBrandPopularity: ['High' 'Medium' 'Low']\n"
     ]
    }
   ],
   "source": [
    "\n",
    "for column in df_test.columns:\n",
    "    unique_values = df_test[column].unique()\n",
    "    print(f\"Unique values of {column}: {unique_values}\")\n"
   ]
  },
  {
   "cell_type": "code",
   "execution_count": 2060,
   "metadata": {},
   "outputs": [
    {
     "data": {
      "text/html": [
       "<div>\n",
       "<style scoped>\n",
       "    .dataframe tbody tr th:only-of-type {\n",
       "        vertical-align: middle;\n",
       "    }\n",
       "\n",
       "    .dataframe tbody tr th {\n",
       "        vertical-align: top;\n",
       "    }\n",
       "\n",
       "    .dataframe thead th {\n",
       "        text-align: right;\n",
       "    }\n",
       "</style>\n",
       "<table border=\"1\" class=\"dataframe\">\n",
       "  <thead>\n",
       "    <tr style=\"text-align: right;\">\n",
       "      <th></th>\n",
       "      <th>id</th>\n",
       "      <th>City</th>\n",
       "      <th>TimeOfDay</th>\n",
       "      <th>DayOfWeek</th>\n",
       "      <th>IsWeekend</th>\n",
       "      <th>Weather</th>\n",
       "      <th>PhoneBrandPopularity</th>\n",
       "    </tr>\n",
       "  </thead>\n",
       "  <tbody>\n",
       "    <tr>\n",
       "      <th>0</th>\n",
       "      <td>38665</td>\n",
       "      <td>El Koba</td>\n",
       "      <td>Afternoon</td>\n",
       "      <td>Saturday</td>\n",
       "      <td>1</td>\n",
       "      <td>Sunny</td>\n",
       "      <td>High</td>\n",
       "    </tr>\n",
       "    <tr>\n",
       "      <th>1</th>\n",
       "      <td>35050</td>\n",
       "      <td>Bab Ezzouar</td>\n",
       "      <td>Night</td>\n",
       "      <td>Friday</td>\n",
       "      <td>1</td>\n",
       "      <td>Rainy</td>\n",
       "      <td>Medium</td>\n",
       "    </tr>\n",
       "    <tr>\n",
       "      <th>2</th>\n",
       "      <td>82586</td>\n",
       "      <td>El Harrach</td>\n",
       "      <td>Morning</td>\n",
       "      <td>Thursday</td>\n",
       "      <td>0</td>\n",
       "      <td>Stormy</td>\n",
       "      <td>Low</td>\n",
       "    </tr>\n",
       "    <tr>\n",
       "      <th>3</th>\n",
       "      <td>58728</td>\n",
       "      <td>El Harrach</td>\n",
       "      <td>Morning</td>\n",
       "      <td>Wednesday</td>\n",
       "      <td>0</td>\n",
       "      <td>Rainy</td>\n",
       "      <td>Low</td>\n",
       "    </tr>\n",
       "    <tr>\n",
       "      <th>4</th>\n",
       "      <td>9507</td>\n",
       "      <td>Oued El Smar</td>\n",
       "      <td>Morning</td>\n",
       "      <td>Monday</td>\n",
       "      <td>0</td>\n",
       "      <td>Stormy</td>\n",
       "      <td>Low</td>\n",
       "    </tr>\n",
       "  </tbody>\n",
       "</table>\n",
       "</div>"
      ],
      "text/plain": [
       "      id          City  TimeOfDay  DayOfWeek  IsWeekend Weather  \\\n",
       "0  38665       El Koba  Afternoon   Saturday          1   Sunny   \n",
       "1  35050   Bab Ezzouar      Night     Friday          1   Rainy   \n",
       "2  82586    El Harrach    Morning   Thursday          0  Stormy   \n",
       "3  58728    El Harrach    Morning  Wednesday          0   Rainy   \n",
       "4   9507  Oued El Smar    Morning     Monday          0  Stormy   \n",
       "\n",
       "  PhoneBrandPopularity  \n",
       "0                 High  \n",
       "1               Medium  \n",
       "2                  Low  \n",
       "3                  Low  \n",
       "4                  Low  "
      ]
     },
     "execution_count": 2060,
     "metadata": {},
     "output_type": "execute_result"
    }
   ],
   "source": [
    "# Check if the day of the week is Saturday (6) or Friday (5)\n",
    "df_test['IsWeekend'] = (df_test['DayOfWeek'] == 'Friday') | (df_test['DayOfWeek'] == 'Saturday')\n",
    "\n",
    "# Convert boolean values to integers (True=1, False=0)\n",
    "df_test['IsWeekend'] = df_test['IsWeekend'].astype(int)\n",
    "\n",
    "# Print the updated DataFrame\n",
    "df_test.head()"
   ]
  },
  {
   "cell_type": "code",
   "execution_count": 2061,
   "metadata": {},
   "outputs": [
    {
     "data": {
      "text/plain": [
       "id                      0\n",
       "City                    0\n",
       "TimeOfDay               0\n",
       "DayOfWeek               0\n",
       "IsWeekend               0\n",
       "Weather                 0\n",
       "PhoneBrandPopularity    0\n",
       "dtype: int64"
      ]
     },
     "execution_count": 2061,
     "metadata": {},
     "output_type": "execute_result"
    }
   ],
   "source": [
    "df_test.isnull().sum()"
   ]
  },
  {
   "cell_type": "code",
   "execution_count": 2062,
   "metadata": {},
   "outputs": [
    {
     "data": {
      "text/html": [
       "<div>\n",
       "<style scoped>\n",
       "    .dataframe tbody tr th:only-of-type {\n",
       "        vertical-align: middle;\n",
       "    }\n",
       "\n",
       "    .dataframe tbody tr th {\n",
       "        vertical-align: top;\n",
       "    }\n",
       "\n",
       "    .dataframe thead th {\n",
       "        text-align: right;\n",
       "    }\n",
       "</style>\n",
       "<table border=\"1\" class=\"dataframe\">\n",
       "  <thead>\n",
       "    <tr style=\"text-align: right;\">\n",
       "      <th></th>\n",
       "      <th>id</th>\n",
       "      <th>City</th>\n",
       "      <th>TimeOfDay</th>\n",
       "      <th>DayOfWeek</th>\n",
       "      <th>IsWeekend</th>\n",
       "      <th>Weather</th>\n",
       "      <th>PhoneBrandPopularity</th>\n",
       "    </tr>\n",
       "  </thead>\n",
       "  <tbody>\n",
       "    <tr>\n",
       "      <th>0</th>\n",
       "      <td>38665</td>\n",
       "      <td>4</td>\n",
       "      <td>0</td>\n",
       "      <td>2</td>\n",
       "      <td>1</td>\n",
       "      <td>3</td>\n",
       "      <td>0</td>\n",
       "    </tr>\n",
       "    <tr>\n",
       "      <th>1</th>\n",
       "      <td>35050</td>\n",
       "      <td>1</td>\n",
       "      <td>3</td>\n",
       "      <td>0</td>\n",
       "      <td>1</td>\n",
       "      <td>1</td>\n",
       "      <td>2</td>\n",
       "    </tr>\n",
       "    <tr>\n",
       "      <th>2</th>\n",
       "      <td>82586</td>\n",
       "      <td>3</td>\n",
       "      <td>2</td>\n",
       "      <td>4</td>\n",
       "      <td>0</td>\n",
       "      <td>2</td>\n",
       "      <td>1</td>\n",
       "    </tr>\n",
       "    <tr>\n",
       "      <th>3</th>\n",
       "      <td>58728</td>\n",
       "      <td>3</td>\n",
       "      <td>2</td>\n",
       "      <td>6</td>\n",
       "      <td>0</td>\n",
       "      <td>1</td>\n",
       "      <td>1</td>\n",
       "    </tr>\n",
       "    <tr>\n",
       "      <th>4</th>\n",
       "      <td>9507</td>\n",
       "      <td>5</td>\n",
       "      <td>2</td>\n",
       "      <td>1</td>\n",
       "      <td>0</td>\n",
       "      <td>2</td>\n",
       "      <td>1</td>\n",
       "    </tr>\n",
       "  </tbody>\n",
       "</table>\n",
       "</div>"
      ],
      "text/plain": [
       "      id  City  TimeOfDay  DayOfWeek  IsWeekend  Weather  PhoneBrandPopularity\n",
       "0  38665     4          0          2          1        3                     0\n",
       "1  35050     1          3          0          1        1                     2\n",
       "2  82586     3          2          4          0        2                     1\n",
       "3  58728     3          2          6          0        1                     1\n",
       "4   9507     5          2          1          0        2                     1"
      ]
     },
     "execution_count": 2062,
     "metadata": {},
     "output_type": "execute_result"
    }
   ],
   "source": [
    "# Initialize LabelEncoder\n",
    "label_encoder = LabelEncoder()\n",
    "\n",
    "# Encode categorical columns\n",
    "for column in df_test.select_dtypes(include=['object']).columns:\n",
    "   df_test[column] = label_encoder.fit_transform(df_test[column])\n",
    "\n",
    "# Print encoded DataFrame\n",
    "df_test.head()"
   ]
  },
  {
   "cell_type": "code",
   "execution_count": 2063,
   "metadata": {},
   "outputs": [
    {
     "data": {
      "text/html": [
       "<div>\n",
       "<style scoped>\n",
       "    .dataframe tbody tr th:only-of-type {\n",
       "        vertical-align: middle;\n",
       "    }\n",
       "\n",
       "    .dataframe tbody tr th {\n",
       "        vertical-align: top;\n",
       "    }\n",
       "\n",
       "    .dataframe thead th {\n",
       "        text-align: right;\n",
       "    }\n",
       "</style>\n",
       "<table border=\"1\" class=\"dataframe\">\n",
       "  <thead>\n",
       "    <tr style=\"text-align: right;\">\n",
       "      <th></th>\n",
       "      <th>id</th>\n",
       "      <th>City</th>\n",
       "      <th>TimeOfDay</th>\n",
       "      <th>DayOfWeek</th>\n",
       "      <th>IsWeekend</th>\n",
       "      <th>Weather</th>\n",
       "      <th>PhoneBrandPopularity</th>\n",
       "    </tr>\n",
       "  </thead>\n",
       "  <tbody>\n",
       "    <tr>\n",
       "      <th>0</th>\n",
       "      <td>38665</td>\n",
       "      <td>4</td>\n",
       "      <td>0</td>\n",
       "      <td>2</td>\n",
       "      <td>1</td>\n",
       "      <td>3</td>\n",
       "      <td>0</td>\n",
       "    </tr>\n",
       "    <tr>\n",
       "      <th>1</th>\n",
       "      <td>35050</td>\n",
       "      <td>1</td>\n",
       "      <td>3</td>\n",
       "      <td>0</td>\n",
       "      <td>1</td>\n",
       "      <td>1</td>\n",
       "      <td>2</td>\n",
       "    </tr>\n",
       "    <tr>\n",
       "      <th>2</th>\n",
       "      <td>82586</td>\n",
       "      <td>3</td>\n",
       "      <td>2</td>\n",
       "      <td>4</td>\n",
       "      <td>0</td>\n",
       "      <td>2</td>\n",
       "      <td>1</td>\n",
       "    </tr>\n",
       "    <tr>\n",
       "      <th>3</th>\n",
       "      <td>58728</td>\n",
       "      <td>3</td>\n",
       "      <td>2</td>\n",
       "      <td>6</td>\n",
       "      <td>0</td>\n",
       "      <td>1</td>\n",
       "      <td>1</td>\n",
       "    </tr>\n",
       "    <tr>\n",
       "      <th>4</th>\n",
       "      <td>9507</td>\n",
       "      <td>5</td>\n",
       "      <td>2</td>\n",
       "      <td>1</td>\n",
       "      <td>0</td>\n",
       "      <td>2</td>\n",
       "      <td>1</td>\n",
       "    </tr>\n",
       "  </tbody>\n",
       "</table>\n",
       "</div>"
      ],
      "text/plain": [
       "      id  City  TimeOfDay  DayOfWeek  IsWeekend  Weather  PhoneBrandPopularity\n",
       "0  38665     4          0          2          1        3                     0\n",
       "1  35050     1          3          0          1        1                     2\n",
       "2  82586     3          2          4          0        2                     1\n",
       "3  58728     3          2          6          0        1                     1\n",
       "4   9507     5          2          1          0        2                     1"
      ]
     },
     "execution_count": 2063,
     "metadata": {},
     "output_type": "execute_result"
    }
   ],
   "source": [
    "df_test.head()"
   ]
  },
  {
   "cell_type": "code",
   "execution_count": 2064,
   "metadata": {},
   "outputs": [
    {
     "name": "stdout",
     "output_type": "stream",
     "text": [
      "157/157 [==============================] - 0s 3ms/step\n"
     ]
    },
    {
     "data": {
      "text/html": [
       "<div>\n",
       "<style scoped>\n",
       "    .dataframe tbody tr th:only-of-type {\n",
       "        vertical-align: middle;\n",
       "    }\n",
       "\n",
       "    .dataframe tbody tr th {\n",
       "        vertical-align: top;\n",
       "    }\n",
       "\n",
       "    .dataframe thead th {\n",
       "        text-align: right;\n",
       "    }\n",
       "</style>\n",
       "<table border=\"1\" class=\"dataframe\">\n",
       "  <thead>\n",
       "    <tr style=\"text-align: right;\">\n",
       "      <th></th>\n",
       "      <th>id</th>\n",
       "      <th>City</th>\n",
       "      <th>TimeOfDay</th>\n",
       "      <th>DayOfWeek</th>\n",
       "      <th>IsWeekend</th>\n",
       "      <th>Weather</th>\n",
       "      <th>PhoneBrandPopularity</th>\n",
       "      <th>HighRisk</th>\n",
       "    </tr>\n",
       "  </thead>\n",
       "  <tbody>\n",
       "    <tr>\n",
       "      <th>0</th>\n",
       "      <td>38665</td>\n",
       "      <td>4</td>\n",
       "      <td>0</td>\n",
       "      <td>2</td>\n",
       "      <td>1</td>\n",
       "      <td>3</td>\n",
       "      <td>0</td>\n",
       "      <td>0</td>\n",
       "    </tr>\n",
       "    <tr>\n",
       "      <th>1</th>\n",
       "      <td>35050</td>\n",
       "      <td>1</td>\n",
       "      <td>3</td>\n",
       "      <td>0</td>\n",
       "      <td>1</td>\n",
       "      <td>1</td>\n",
       "      <td>2</td>\n",
       "      <td>0</td>\n",
       "    </tr>\n",
       "    <tr>\n",
       "      <th>2</th>\n",
       "      <td>82586</td>\n",
       "      <td>3</td>\n",
       "      <td>2</td>\n",
       "      <td>4</td>\n",
       "      <td>0</td>\n",
       "      <td>2</td>\n",
       "      <td>1</td>\n",
       "      <td>0</td>\n",
       "    </tr>\n",
       "    <tr>\n",
       "      <th>3</th>\n",
       "      <td>58728</td>\n",
       "      <td>3</td>\n",
       "      <td>2</td>\n",
       "      <td>6</td>\n",
       "      <td>0</td>\n",
       "      <td>1</td>\n",
       "      <td>1</td>\n",
       "      <td>0</td>\n",
       "    </tr>\n",
       "    <tr>\n",
       "      <th>4</th>\n",
       "      <td>9507</td>\n",
       "      <td>5</td>\n",
       "      <td>2</td>\n",
       "      <td>1</td>\n",
       "      <td>0</td>\n",
       "      <td>2</td>\n",
       "      <td>1</td>\n",
       "      <td>0</td>\n",
       "    </tr>\n",
       "  </tbody>\n",
       "</table>\n",
       "</div>"
      ],
      "text/plain": [
       "      id  City  TimeOfDay  DayOfWeek  IsWeekend  Weather  \\\n",
       "0  38665     4          0          2          1        3   \n",
       "1  35050     1          3          0          1        1   \n",
       "2  82586     3          2          4          0        2   \n",
       "3  58728     3          2          6          0        1   \n",
       "4   9507     5          2          1          0        2   \n",
       "\n",
       "   PhoneBrandPopularity  HighRisk  \n",
       "0                     0         0  \n",
       "1                     2         0  \n",
       "2                     1         0  \n",
       "3                     1         0  \n",
       "4                     1         0  "
      ]
     },
     "execution_count": 2064,
     "metadata": {},
     "output_type": "execute_result"
    }
   ],
   "source": [
    "df_test.reset_index(drop=True, inplace=True)\n",
    "X_test=df_test.drop(['id','IsWeekend'], axis=1)\n",
    "predictions = dl_model.predict(X_test)\n",
    "binary_predictions = [1 if pred >= 0.5 else 0 for pred in predictions]\n",
    "\n",
    "df_test['HighRisk'] = binary_predictions\n",
    "\n",
    "df_test.head()"
   ]
  },
  {
   "cell_type": "code",
   "execution_count": 2065,
   "metadata": {},
   "outputs": [
    {
     "data": {
      "text/plain": [
       "HighRisk\n",
       "0    4774\n",
       "1     226\n",
       "Name: count, dtype: int64"
      ]
     },
     "execution_count": 2065,
     "metadata": {},
     "output_type": "execute_result"
    }
   ],
   "source": [
    "df_test['HighRisk'].value_counts()"
   ]
  },
  {
   "cell_type": "code",
   "execution_count": 2066,
   "metadata": {},
   "outputs": [
    {
     "data": {
      "text/html": [
       "<div>\n",
       "<style scoped>\n",
       "    .dataframe tbody tr th:only-of-type {\n",
       "        vertical-align: middle;\n",
       "    }\n",
       "\n",
       "    .dataframe tbody tr th {\n",
       "        vertical-align: top;\n",
       "    }\n",
       "\n",
       "    .dataframe thead th {\n",
       "        text-align: right;\n",
       "    }\n",
       "</style>\n",
       "<table border=\"1\" class=\"dataframe\">\n",
       "  <thead>\n",
       "    <tr style=\"text-align: right;\">\n",
       "      <th></th>\n",
       "      <th>id</th>\n",
       "      <th>HighRisk_x</th>\n",
       "      <th>HighRisk_y</th>\n",
       "    </tr>\n",
       "  </thead>\n",
       "  <tbody>\n",
       "    <tr>\n",
       "      <th>0</th>\n",
       "      <td>38665</td>\n",
       "      <td>0</td>\n",
       "      <td>0</td>\n",
       "    </tr>\n",
       "    <tr>\n",
       "      <th>1</th>\n",
       "      <td>35050</td>\n",
       "      <td>1</td>\n",
       "      <td>0</td>\n",
       "    </tr>\n",
       "    <tr>\n",
       "      <th>2</th>\n",
       "      <td>82586</td>\n",
       "      <td>0</td>\n",
       "      <td>0</td>\n",
       "    </tr>\n",
       "    <tr>\n",
       "      <th>3</th>\n",
       "      <td>58728</td>\n",
       "      <td>0</td>\n",
       "      <td>0</td>\n",
       "    </tr>\n",
       "    <tr>\n",
       "      <th>4</th>\n",
       "      <td>9507</td>\n",
       "      <td>0</td>\n",
       "      <td>0</td>\n",
       "    </tr>\n",
       "  </tbody>\n",
       "</table>\n",
       "</div>"
      ],
      "text/plain": [
       "      id  HighRisk_x  HighRisk_y\n",
       "0  38665           0           0\n",
       "1  35050           1           0\n",
       "2  82586           0           0\n",
       "3  58728           0           0\n",
       "4   9507           0           0"
      ]
     },
     "execution_count": 2066,
     "metadata": {},
     "output_type": "execute_result"
    }
   ],
   "source": [
    "submission = pd.read_csv(\"submission.csv\")\n",
    "\n",
    "submission_merged = pd.merge(submission, df_test[['id', 'HighRisk']], on='id', how='left')\n",
    "submission_merged.head()\n"
   ]
  },
  {
   "cell_type": "code",
   "execution_count": 2067,
   "metadata": {},
   "outputs": [],
   "source": [
    "submission_merged = submission_merged.drop(columns=['HighRisk_x'])\n",
    "submission_merged.rename(columns={'HighRisk_y': 'HighRisk'}, inplace=True)"
   ]
  },
  {
   "cell_type": "code",
   "execution_count": 2068,
   "metadata": {},
   "outputs": [
    {
     "data": {
      "text/html": [
       "<div>\n",
       "<style scoped>\n",
       "    .dataframe tbody tr th:only-of-type {\n",
       "        vertical-align: middle;\n",
       "    }\n",
       "\n",
       "    .dataframe tbody tr th {\n",
       "        vertical-align: top;\n",
       "    }\n",
       "\n",
       "    .dataframe thead th {\n",
       "        text-align: right;\n",
       "    }\n",
       "</style>\n",
       "<table border=\"1\" class=\"dataframe\">\n",
       "  <thead>\n",
       "    <tr style=\"text-align: right;\">\n",
       "      <th></th>\n",
       "      <th>id</th>\n",
       "      <th>HighRisk</th>\n",
       "    </tr>\n",
       "  </thead>\n",
       "  <tbody>\n",
       "    <tr>\n",
       "      <th>0</th>\n",
       "      <td>38665</td>\n",
       "      <td>0</td>\n",
       "    </tr>\n",
       "    <tr>\n",
       "      <th>1</th>\n",
       "      <td>35050</td>\n",
       "      <td>0</td>\n",
       "    </tr>\n",
       "    <tr>\n",
       "      <th>2</th>\n",
       "      <td>82586</td>\n",
       "      <td>0</td>\n",
       "    </tr>\n",
       "    <tr>\n",
       "      <th>3</th>\n",
       "      <td>58728</td>\n",
       "      <td>0</td>\n",
       "    </tr>\n",
       "    <tr>\n",
       "      <th>4</th>\n",
       "      <td>9507</td>\n",
       "      <td>0</td>\n",
       "    </tr>\n",
       "  </tbody>\n",
       "</table>\n",
       "</div>"
      ],
      "text/plain": [
       "      id  HighRisk\n",
       "0  38665         0\n",
       "1  35050         0\n",
       "2  82586         0\n",
       "3  58728         0\n",
       "4   9507         0"
      ]
     },
     "execution_count": 2068,
     "metadata": {},
     "output_type": "execute_result"
    }
   ],
   "source": [
    "submission_merged.head()"
   ]
  },
  {
   "cell_type": "code",
   "execution_count": 2069,
   "metadata": {},
   "outputs": [],
   "source": [
    "submission_merged.to_csv(\"submission.csv\", index=False)"
   ]
  }
 ],
 "metadata": {
  "kernelspec": {
   "display_name": "Python 3 (ipykernel)",
   "language": "python",
   "name": "python3"
  },
  "language_info": {
   "codemirror_mode": {
    "name": "ipython",
    "version": 3
   },
   "file_extension": ".py",
   "mimetype": "text/x-python",
   "name": "python",
   "nbconvert_exporter": "python",
   "pygments_lexer": "ipython3",
   "version": "3.11.4"
  }
 },
 "nbformat": 4,
 "nbformat_minor": 2
}
